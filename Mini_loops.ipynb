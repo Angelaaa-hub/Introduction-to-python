{
  "cells": [
    {
      "cell_type": "markdown",
      "metadata": {
        "id": "view-in-github",
        "colab_type": "text"
      },
      "source": [
        "<a href=\"https://colab.research.google.com/github/Angelaaa-hub/Introduction-to-python/blob/main/Mini_loops.ipynb\" target=\"_parent\"><img src=\"https://colab.research.google.com/assets/colab-badge.svg\" alt=\"Open In Colab\"/></a>"
      ]
    },
    {
      "cell_type": "code",
      "execution_count": null,
      "id": "fadb41fd-49ce-4cd7-b15c-8538d0d6e758",
      "metadata": {
        "jp-MarkdownHeadingCollapsed": true,
        "id": "fadb41fd-49ce-4cd7-b15c-8538d0d6e758"
      },
      "outputs": [],
      "source": [
        "# 1. Print numbers from 1 to 10\n",
        "# Output:\n",
        "# 1\n",
        "# 2\n",
        "# ...\n",
        "# 10"
      ]
    },
    {
      "cell_type": "code",
      "source": [
        "numbers = [1, 2, 3, 4, 5, 6, 7, 8, 9, 10]\n",
        "for number in numbers:\n",
        "    print(number)"
      ],
      "metadata": {
        "colab": {
          "base_uri": "https://localhost:8080/"
        },
        "id": "TTxeIXI1JJ3y",
        "outputId": "7af26ed3-b528-491e-df77-bf432efc2b67"
      },
      "id": "TTxeIXI1JJ3y",
      "execution_count": null,
      "outputs": [
        {
          "output_type": "stream",
          "name": "stdout",
          "text": [
            "1\n",
            "2\n",
            "3\n",
            "4\n",
            "5\n",
            "6\n",
            "7\n",
            "8\n",
            "9\n",
            "10\n"
          ]
        }
      ]
    },
    {
      "cell_type": "code",
      "execution_count": null,
      "id": "f9399dde-a7a3-4918-baf3-ff7b35eded7f",
      "metadata": {
        "jp-MarkdownHeadingCollapsed": true,
        "id": "f9399dde-a7a3-4918-baf3-ff7b35eded7f"
      },
      "outputs": [],
      "source": [
        "# 2. Print even numbers between 1 and 20\n",
        "# Output:\n",
        "# 2, 4, 6, ..., 20\n",
        "# 3. Print the square of numbers from 1 to 5\n",
        "# Output:\n",
        "# 1 4 9 16 25"
      ]
    },
    {
      "cell_type": "code",
      "source": [
        "numbers = [1,2,3,4,5,6,7,8,9,10,11,12,13,14,15,16,17,18,19,20]\n",
        "for number in numbers:\n",
        "    if number % 2 == 0:\n",
        "        print(number)"
      ],
      "metadata": {
        "colab": {
          "base_uri": "https://localhost:8080/"
        },
        "id": "KXZMPjarJfoy",
        "outputId": "8fe730cb-dfa2-40a6-f223-2655484ec7f3"
      },
      "id": "KXZMPjarJfoy",
      "execution_count": null,
      "outputs": [
        {
          "output_type": "stream",
          "name": "stdout",
          "text": [
            "2\n",
            "4\n",
            "6\n",
            "8\n",
            "10\n",
            "12\n",
            "14\n",
            "16\n",
            "18\n",
            "20\n"
          ]
        }
      ]
    },
    {
      "cell_type": "code",
      "source": [
        "for i in range(1, 6):\n",
        "    print(i**2)"
      ],
      "metadata": {
        "colab": {
          "base_uri": "https://localhost:8080/"
        },
        "id": "SD1HJLCbJ4AS",
        "outputId": "5a54bde5-5c04-4935-eee3-5b78a1c3ec47"
      },
      "id": "SD1HJLCbJ4AS",
      "execution_count": null,
      "outputs": [
        {
          "output_type": "stream",
          "name": "stdout",
          "text": [
            "1\n",
            "4\n",
            "9\n",
            "16\n",
            "25\n"
          ]
        }
      ]
    },
    {
      "cell_type": "code",
      "execution_count": null,
      "id": "d5ee7226-239e-45fe-86a9-a9f37a7dded1",
      "metadata": {
        "jp-MarkdownHeadingCollapsed": true,
        "id": "d5ee7226-239e-45fe-86a9-a9f37a7dded1"
      },
      "outputs": [],
      "source": [
        "# 4. Print each character in the word \"Python\"\n",
        "# Output:\n",
        "# P\n",
        "# y\n",
        "# t\n",
        "# h\n",
        "# o\n",
        "# n"
      ]
    },
    {
      "cell_type": "code",
      "source": [
        "word = \"Python\"\n",
        "for letter in word:\n",
        "    print(letter)"
      ],
      "metadata": {
        "colab": {
          "base_uri": "https://localhost:8080/"
        },
        "id": "8nCu2EBkKQ0G",
        "outputId": "63274368-6801-480f-ab31-20330f99a70f"
      },
      "id": "8nCu2EBkKQ0G",
      "execution_count": null,
      "outputs": [
        {
          "output_type": "stream",
          "name": "stdout",
          "text": [
            "P\n",
            "y\n",
            "t\n",
            "h\n",
            "o\n",
            "n\n"
          ]
        }
      ]
    },
    {
      "cell_type": "code",
      "execution_count": null,
      "id": "cecef65b-7f15-44a8-a92d-cd9dcb036ae7",
      "metadata": {
        "jp-MarkdownHeadingCollapsed": true,
        "id": "cecef65b-7f15-44a8-a92d-cd9dcb036ae7"
      },
      "outputs": [],
      "source": [
        "# 5. Loop through this list and print names:\n",
        "names = [\"Alice\", \"Bob\", \"Charlie\"]"
      ]
    },
    {
      "cell_type": "code",
      "source": [
        "names = [\"Alice\", \"Bob\", \"Charlie\"]\n",
        "for name in names:\n",
        "    print(name)"
      ],
      "metadata": {
        "colab": {
          "base_uri": "https://localhost:8080/"
        },
        "id": "ptC_nhVYKZjH",
        "outputId": "93ad7abb-c0b4-40d9-f059-628f28bf1f2a"
      },
      "id": "ptC_nhVYKZjH",
      "execution_count": null,
      "outputs": [
        {
          "output_type": "stream",
          "name": "stdout",
          "text": [
            "Alice\n",
            "Bob\n",
            "Charlie\n"
          ]
        }
      ]
    },
    {
      "cell_type": "code",
      "execution_count": null,
      "id": "2a5f2161-dcbd-4440-a262-0866f39a1a98",
      "metadata": {
        "jp-MarkdownHeadingCollapsed": true,
        "id": "2a5f2161-dcbd-4440-a262-0866f39a1a98"
      },
      "outputs": [],
      "source": [
        "# 6. Print numbers from 5 to 1\n",
        "# Output:\n",
        "# 5\n",
        "# 4\n",
        "# 3\n",
        "# 2\n",
        "# 1"
      ]
    },
    {
      "cell_type": "code",
      "source": [
        "numbers = [5,4,3,2,1]\n",
        "for number in numbers:\n",
        "    print(number)"
      ],
      "metadata": {
        "colab": {
          "base_uri": "https://localhost:8080/"
        },
        "id": "myhKbG1XKq6s",
        "outputId": "59bcf8eb-b510-4e58-eb8b-9498839276b3"
      },
      "id": "myhKbG1XKq6s",
      "execution_count": null,
      "outputs": [
        {
          "output_type": "stream",
          "name": "stdout",
          "text": [
            "5\n",
            "4\n",
            "3\n",
            "2\n",
            "1\n"
          ]
        }
      ]
    },
    {
      "cell_type": "code",
      "execution_count": null,
      "id": "a0e44b26-12b4-4975-9402-642473541d0a",
      "metadata": {
        "jp-MarkdownHeadingCollapsed": true,
        "id": "a0e44b26-12b4-4975-9402-642473541d0a"
      },
      "outputs": [],
      "source": [
        "# 7. Keep asking the user to enter a password until they type \"secret\"\n",
        "# Output:\n",
        "# Try again... until correct"
      ]
    },
    {
      "cell_type": "code",
      "source": [
        "password = input(\"Enter a password: \")\n",
        "while password != \"secret\":\n",
        "    print(\"Try again...\")\n",
        "    password = input(\"Enter a password: \")"
      ],
      "metadata": {
        "colab": {
          "base_uri": "https://localhost:8080/"
        },
        "id": "YNWkG2qmKyFn",
        "outputId": "d1b7a159-ebc1-48e0-fca7-e2938d1d752d"
      },
      "id": "YNWkG2qmKyFn",
      "execution_count": null,
      "outputs": [
        {
          "name": "stdout",
          "output_type": "stream",
          "text": [
            "Enter a password: Angela\n",
            "Try again...\n",
            "Enter a password: Chris\n",
            "Try again...\n",
            "Enter a password: Secret\n",
            "Try again...\n",
            "Enter a password: secret\n"
          ]
        }
      ]
    },
    {
      "cell_type": "code",
      "execution_count": null,
      "id": "cb82d589-6bb5-4cb8-9e03-cb875dd26aaa",
      "metadata": {
        "jp-MarkdownHeadingCollapsed": true,
        "id": "cb82d589-6bb5-4cb8-9e03-cb875dd26aaa"
      },
      "outputs": [],
      "source": [
        "# 8. Ask the user to enter numbers until they enter 0. Then print the sum.\n",
        "# Input:\n",
        "# 5\n",
        "# 3\n",
        "# 0\n",
        "# Output:\n",
        "# Total: 8"
      ]
    },
    {
      "cell_type": "code",
      "source": [
        "numbers = []\n",
        "while True:\n",
        "    number = int(input(\"Enter a number: \"))\n",
        "    if number == 0:\n",
        "        break\n",
        "    numbers.append(number)\n",
        "total = sum(numbers)\n",
        "print(\"Total:\", total)"
      ],
      "metadata": {
        "colab": {
          "base_uri": "https://localhost:8080/"
        },
        "id": "XC47ME-LLETc",
        "outputId": "bc58991d-5b93-4d64-ccce-5faa2892a436"
      },
      "id": "XC47ME-LLETc",
      "execution_count": null,
      "outputs": [
        {
          "output_type": "stream",
          "name": "stdout",
          "text": [
            "Enter a number: 5\n",
            "Enter a number: 7\n",
            "Enter a number: 6\n",
            "Enter a number: 0\n",
            "Total: 18\n"
          ]
        }
      ]
    },
    {
      "cell_type": "code",
      "execution_count": null,
      "id": "cf65e3cb-bbbf-4fe2-83ab-4b39059c09e7",
      "metadata": {
        "jp-MarkdownHeadingCollapsed": true,
        "id": "cf65e3cb-bbbf-4fe2-83ab-4b39059c09e7"
      },
      "outputs": [],
      "source": [
        "# 9. Print all numbers from 1 to 20 that are divisible by 3\n",
        "# Output:\n",
        "# 3 6 9 12 15 18"
      ]
    },
    {
      "cell_type": "code",
      "source": [
        "numbers = [1,2,3,4,5,6,7,8,9,10,11,12,13,14,15,16,17,18,19,20]\n",
        "for number in numbers:\n",
        "    if number % 3 == 0:\n",
        "        print(number)"
      ],
      "metadata": {
        "colab": {
          "base_uri": "https://localhost:8080/"
        },
        "id": "Adja8nc5LPuE",
        "outputId": "b418091c-b369-47b8-ea6a-06ef3f7d4c91"
      },
      "id": "Adja8nc5LPuE",
      "execution_count": null,
      "outputs": [
        {
          "output_type": "stream",
          "name": "stdout",
          "text": [
            "3\n",
            "6\n",
            "9\n",
            "12\n",
            "15\n",
            "18\n"
          ]
        }
      ]
    },
    {
      "cell_type": "code",
      "execution_count": null,
      "id": "2d6e59ea-9f9d-4f46-aa30-16e564ce52f2",
      "metadata": {
        "jp-MarkdownHeadingCollapsed": true,
        "id": "2d6e59ea-9f9d-4f46-aa30-16e564ce52f2"
      },
      "outputs": [],
      "source": [
        "# 10. From this list, print only the odd numbers:\n",
        "numbers = [4, 7, 10, 13, 16, 19]"
      ]
    },
    {
      "cell_type": "code",
      "source": [
        "numbers = [4, 7, 10, 13, 16, 19]\n",
        "\n",
        "if number % 2 != 0:\n",
        "    print(number)"
      ],
      "metadata": {
        "id": "qyXxtSKULqHw"
      },
      "id": "qyXxtSKULqHw",
      "execution_count": null,
      "outputs": []
    },
    {
      "cell_type": "code",
      "execution_count": null,
      "id": "88d0a54e-de16-4c70-9600-c1e0747353dc",
      "metadata": {
        "jp-MarkdownHeadingCollapsed": true,
        "id": "88d0a54e-de16-4c70-9600-c1e0747353dc"
      },
      "outputs": [],
      "source": [
        "# 11. Count how many times \"apple\" appears in the list:\n",
        "fruits = [\"apple\", \"banana\", \"apple\", \"cherry\", \"apple\"]"
      ]
    },
    {
      "cell_type": "code",
      "source": [
        "fruits = [\"apple\", \"banana\", \"apple\", \"cherry\", \"apple\"]\n",
        "count = 0\n",
        "for fruit in fruits:\n",
        "    if fruit == \"apple\":\n",
        "        count += 1\n",
        "print(\"apple appears\", count, \"times\")"
      ],
      "metadata": {
        "colab": {
          "base_uri": "https://localhost:8080/"
        },
        "id": "jOyvoLM1ME1r",
        "outputId": "7de2f08a-428e-4baa-c6c4-a9ca1cb38f5b"
      },
      "id": "jOyvoLM1ME1r",
      "execution_count": null,
      "outputs": [
        {
          "output_type": "stream",
          "name": "stdout",
          "text": [
            "apple appears 3 times\n"
          ]
        }
      ]
    },
    {
      "cell_type": "code",
      "execution_count": null,
      "id": "07708d8b-e871-49cd-b93e-da49b64b6b54",
      "metadata": {
        "jp-MarkdownHeadingCollapsed": true,
        "id": "07708d8b-e871-49cd-b93e-da49b64b6b54"
      },
      "outputs": [],
      "source": [
        "# 12. Use a loop to reverse a string:\n",
        "# Input:\n",
        "# \"hello\"\n",
        "# Output:\n",
        "# \"olleh\""
      ]
    },
    {
      "cell_type": "code",
      "source": [
        "word = \"hello\"\n",
        "reversed_word = \"\"\n",
        "for i in range(len(word) - 1, -1, -1):\n",
        "    reversed_word += word[i]\n",
        "print(reversed_word)"
      ],
      "metadata": {
        "colab": {
          "base_uri": "https://localhost:8080/"
        },
        "id": "b3hQjdkhMOK1",
        "outputId": "d0a1301e-be03-45c9-d2c3-c8ba3d5ad60d"
      },
      "id": "b3hQjdkhMOK1",
      "execution_count": null,
      "outputs": [
        {
          "output_type": "stream",
          "name": "stdout",
          "text": [
            "olleh\n"
          ]
        }
      ]
    },
    {
      "cell_type": "code",
      "execution_count": null,
      "id": "04919b85-d347-4bf2-985b-bfba021b37ac",
      "metadata": {
        "jp-MarkdownHeadingCollapsed": true,
        "id": "04919b85-d347-4bf2-985b-bfba021b37ac"
      },
      "outputs": [],
      "source": [
        "# 13. Print a simple triangle of stars:\n",
        "# Output:\n",
        "# *\n",
        "# **\n",
        "# ***\n",
        "# ****\n",
        "# *****"
      ]
    },
    {
      "cell_type": "code",
      "source": [
        "for i in range (1,10):\n",
        "    print ('*'* i)"
      ],
      "metadata": {
        "id": "Jisik21YMZIa",
        "colab": {
          "base_uri": "https://localhost:8080/"
        },
        "outputId": "927bc4a6-a5a0-47c0-a151-41adb1f91406"
      },
      "id": "Jisik21YMZIa",
      "execution_count": 21,
      "outputs": [
        {
          "output_type": "stream",
          "name": "stdout",
          "text": [
            "*\n",
            "**\n",
            "***\n",
            "****\n",
            "*****\n",
            "******\n",
            "*******\n",
            "********\n",
            "*********\n"
          ]
        }
      ]
    },
    {
      "cell_type": "code",
      "execution_count": null,
      "id": "e943a0c7-96c3-42d9-a56c-8154e1fa57ac",
      "metadata": {
        "jp-MarkdownHeadingCollapsed": true,
        "id": "e943a0c7-96c3-42d9-a56c-8154e1fa57ac"
      },
      "outputs": [],
      "source": [
        "# 14. Use a loop to calculate the factorial of a number:\n",
        "# Input:\n",
        "# 5\n",
        "# Output:\n",
        "# 120"
      ]
    },
    {
      "cell_type": "code",
      "source": [
        "num = 5\n",
        "factorial = 1\n",
        "\n",
        "for i in range(1, num + 1):\n",
        "    factorial *= i\n",
        "\n",
        "print(f\"Factorial of {num} is {factorial}\")\n"
      ],
      "metadata": {
        "colab": {
          "base_uri": "https://localhost:8080/"
        },
        "id": "aq4NXPZ4On3u",
        "outputId": "e9650941-107d-4025-94cb-aa6c4dadccfa"
      },
      "id": "aq4NXPZ4On3u",
      "execution_count": 24,
      "outputs": [
        {
          "output_type": "stream",
          "name": "stdout",
          "text": [
            "Factorial of 5 is 120\n"
          ]
        }
      ]
    },
    {
      "cell_type": "code",
      "execution_count": null,
      "id": "e1d18ff1-abcc-46ac-8c52-07228657ef49",
      "metadata": {
        "jp-MarkdownHeadingCollapsed": true,
        "id": "e1d18ff1-abcc-46ac-8c52-07228657ef49"
      },
      "outputs": [],
      "source": [
        "\n",
        "# 15. Loop from 1 to 100 and:\n",
        "# Print \"Hit\" if divisible by 3\n",
        "# Print \"Miss\" if divisible by 5\n",
        "# Print \"Jackpot\" if divisible by both"
      ]
    },
    {
      "cell_type": "code",
      "source": [
        "num = input(\"Enter a number: \")\n",
        "while num in range(1, 101):\n",
        "    if num % 3 == 0 and num % 5 == 0:\n",
        "        print(\"Jackpot\")\n",
        "    elif num % 3 == 0:\n",
        "        print(\"Hit\")\n",
        "    elif num % 5 == 0:\n",
        "        print(\"Miss\")\n",
        "    else:\n",
        "        print(\"Try again\")"
      ],
      "metadata": {
        "colab": {
          "base_uri": "https://localhost:8080/"
        },
        "id": "UDzLhMCJP5RB",
        "outputId": "2fb8e8cc-57b8-47b1-f59c-491bba7758ed"
      },
      "id": "UDzLhMCJP5RB",
      "execution_count": 32,
      "outputs": [
        {
          "name": "stdout",
          "output_type": "stream",
          "text": [
            "Enter a number: 5\n"
          ]
        }
      ]
    },
    {
      "cell_type": "code",
      "execution_count": null,
      "id": "9c87b775-4ba0-4730-9a88-d6f9cb46ec49",
      "metadata": {
        "jp-MarkdownHeadingCollapsed": true,
        "id": "9c87b775-4ba0-4730-9a88-d6f9cb46ec49"
      },
      "outputs": [],
      "source": [
        "# 16. Ask the user how many students are in a class. Then loop to enter each student’s name and save them to a list. Finally, print the list of students."
      ]
    },
    {
      "cell_type": "code",
      "execution_count": 33,
      "id": "3866510c-82f0-4a99-8b41-caf51e945b87",
      "metadata": {
        "id": "3866510c-82f0-4a99-8b41-caf51e945b87",
        "colab": {
          "base_uri": "https://localhost:8080/"
        },
        "outputId": "072f5f0c-746d-4a02-fbdf-5a84f0fb54fe"
      },
      "outputs": [
        {
          "output_type": "stream",
          "name": "stdout",
          "text": [
            "How many students are in the class? 5\n",
            "Enter the name of student #1: Caleb\n",
            "Enter the name of student #2: Ann\n",
            "Enter the name of student #3: Stacy\n",
            "Enter the name of student #4: Becky\n",
            "Enter the name of student #5: Keysha\n",
            "\n",
            "List of students:\n",
            "Caleb\n",
            "Ann\n",
            "Stacy\n",
            "Becky\n",
            "Keysha\n"
          ]
        }
      ],
      "source": [
        "\n",
        "num_students = int(input(\"How many students are in the class? \"))\n",
        "\n",
        "students = []\n",
        "\n",
        "for i in range(num_students):\n",
        "    name = input(f\"Enter the name of student #{i + 1}: \")\n",
        "    students.append(name)\n",
        "\n",
        "print(\"\\nList of students:\")\n",
        "for student in students:\n",
        "    print(student)\n"
      ]
    },
    {
      "cell_type": "code",
      "source": [],
      "metadata": {
        "id": "An4Oyk5aTcFb"
      },
      "id": "An4Oyk5aTcFb",
      "execution_count": null,
      "outputs": []
    }
  ],
  "metadata": {
    "kernelspec": {
      "display_name": "Python [conda env:base] *",
      "language": "python",
      "name": "conda-base-py"
    },
    "language_info": {
      "codemirror_mode": {
        "name": "ipython",
        "version": 3
      },
      "file_extension": ".py",
      "mimetype": "text/x-python",
      "name": "python",
      "nbconvert_exporter": "python",
      "pygments_lexer": "ipython3",
      "version": "3.12.7"
    },
    "colab": {
      "provenance": [],
      "include_colab_link": true
    }
  },
  "nbformat": 4,
  "nbformat_minor": 5
}