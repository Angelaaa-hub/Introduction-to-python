{
  "cells": [
    {
      "cell_type": "markdown",
      "metadata": {
        "id": "view-in-github",
        "colab_type": "text"
      },
      "source": [
        "<a href=\"https://colab.research.google.com/github/Angelaaa-hub/Introduction-to-python/blob/main/Mini_ifs.ipynb\" target=\"_parent\"><img src=\"https://colab.research.google.com/assets/colab-badge.svg\" alt=\"Open In Colab\"/></a>"
      ]
    },
    {
      "cell_type": "markdown",
      "id": "633aa2ce-62cd-4b3b-b177-05c119fac55e",
      "metadata": {
        "id": "633aa2ce-62cd-4b3b-b177-05c119fac55e"
      },
      "source": [
        "### practice on how to use if, elif, else / and, or, not"
      ]
    },
    {
      "cell_type": "code",
      "execution_count": null,
      "id": "045cd2ca-73fa-479c-8d9f-2de0ad171d2c",
      "metadata": {
        "id": "045cd2ca-73fa-479c-8d9f-2de0ad171d2c"
      },
      "outputs": [],
      "source": [
        "# 1. Write a program that checks if a number is positive.\n",
        "# Input: 5\n",
        "# Output: Positive number"
      ]
    },
    {
      "cell_type": "code",
      "source": [
        "number = int(input(\"Enter a number: \"))\n",
        "if number > 0:\n",
        "    print(\"Positive number\")\n",
        "else:\n",
        "    print(\"Negative number\")"
      ],
      "metadata": {
        "colab": {
          "base_uri": "https://localhost:8080/"
        },
        "id": "fvlSjgsDNVTm",
        "outputId": "e9ab8da3-fc9b-4154-a1a2-2762e43fabed"
      },
      "id": "fvlSjgsDNVTm",
      "execution_count": null,
      "outputs": [
        {
          "output_type": "stream",
          "name": "stdout",
          "text": [
            "Enter a number: 5\n",
            "Positive number\n"
          ]
        }
      ]
    },
    {
      "cell_type": "code",
      "execution_count": null,
      "id": "c3426473-e823-4c69-9896-6a3307edb695",
      "metadata": {
        "id": "c3426473-e823-4c69-9896-6a3307edb695"
      },
      "outputs": [],
      "source": [
        "# 2. Check if a given number is even or odd.\n",
        "# Input: 7\n",
        "# Output: Odd number"
      ]
    },
    {
      "cell_type": "code",
      "source": [
        "number = int(input(\"Enter a number: \"))\n",
        "if number % 2 == 0:\n",
        "    print(\"Even number\")\n",
        "else:\n",
        "    print(\"Odd number\")"
      ],
      "metadata": {
        "colab": {
          "base_uri": "https://localhost:8080/"
        },
        "id": "hThTsMQSOX4A",
        "outputId": "7cdc2448-136b-4d98-a858-8be798f42051"
      },
      "id": "hThTsMQSOX4A",
      "execution_count": null,
      "outputs": [
        {
          "output_type": "stream",
          "name": "stdout",
          "text": [
            "Enter a number: 7\n",
            "Odd number\n"
          ]
        }
      ]
    },
    {
      "cell_type": "code",
      "execution_count": null,
      "id": "79b20101-7cf8-43d5-a85f-4ecd04cefc1a",
      "metadata": {
        "id": "79b20101-7cf8-43d5-a85f-4ecd04cefc1a"
      },
      "outputs": [],
      "source": [
        "# 3. Ask the user for their age. If they are 18 or older, print \"You are an adult.\""
      ]
    },
    {
      "cell_type": "code",
      "source": [
        "age = int(input(\"Enter your age: \"))\n",
        "if age >= 18:\n",
        "    print(\"You are an adult.\")\n",
        "else:\n",
        "    print(\"You are not an adult.\")"
      ],
      "metadata": {
        "colab": {
          "base_uri": "https://localhost:8080/"
        },
        "id": "8qEdGc_SO6pd",
        "outputId": "6663255e-d5a5-4de9-f605-a841d6e48165"
      },
      "id": "8qEdGc_SO6pd",
      "execution_count": null,
      "outputs": [
        {
          "output_type": "stream",
          "name": "stdout",
          "text": [
            "Enter your age: 17\n",
            "You are not an adult.\n"
          ]
        }
      ]
    },
    {
      "cell_type": "code",
      "execution_count": null,
      "id": "3f11821a-57e9-4615-97c9-4724bd31801e",
      "metadata": {
        "id": "3f11821a-57e9-4615-97c9-4724bd31801e"
      },
      "outputs": [],
      "source": [
        "# 4. Ask the user to enter a password. If it matches \"secret\", print \"Access granted\"; otherwise, print \"Wrong password\"."
      ]
    },
    {
      "cell_type": "code",
      "source": [
        "password = input(\"Enter a password: \")\n",
        "if password == \"secret\":\n",
        "    print(\"Access granted\")\n",
        "else:\n",
        "    print(\"Wrong password\")"
      ],
      "metadata": {
        "colab": {
          "base_uri": "https://localhost:8080/"
        },
        "id": "WV4DUQDDPRo-",
        "outputId": "4afa1917-2837-4692-ddec-9e3d36fd0bd1"
      },
      "id": "WV4DUQDDPRo-",
      "execution_count": null,
      "outputs": [
        {
          "output_type": "stream",
          "name": "stdout",
          "text": [
            "Enter a password: secret\n",
            "Access granted\n"
          ]
        }
      ]
    },
    {
      "cell_type": "code",
      "execution_count": null,
      "id": "fa2f9839-006f-45e8-b259-a5a7421a5aeb",
      "metadata": {
        "id": "fa2f9839-006f-45e8-b259-a5a7421a5aeb"
      },
      "outputs": [],
      "source": [
        "# 5. Ask the user for a number and print whether it is even or odd."
      ]
    },
    {
      "cell_type": "code",
      "source": [
        "number = int(input(\"Enter a number: \"))\n",
        "if number % 2 == 0:\n",
        "    print(\"Even number\")\n",
        "else:\n",
        "    print(\"Odd number\")"
      ],
      "metadata": {
        "colab": {
          "base_uri": "https://localhost:8080/"
        },
        "id": "xNZ3OgyBPfio",
        "outputId": "8e2a7921-eda1-4f8d-fc8d-a674f43af936"
      },
      "id": "xNZ3OgyBPfio",
      "execution_count": null,
      "outputs": [
        {
          "output_type": "stream",
          "name": "stdout",
          "text": [
            "Enter a number: 6\n",
            "Even number\n"
          ]
        }
      ]
    },
    {
      "cell_type": "code",
      "execution_count": null,
      "id": "6a8b081a-bbda-437b-8e0c-c58dce7d01d1",
      "metadata": {
        "id": "6a8b081a-bbda-437b-8e0c-c58dce7d01d1"
      },
      "outputs": [],
      "source": [
        "# 6. Check whether a number is divisible by 3 given by a user. If it is, print \"Hit\"; otherwise, print \"Miss\"."
      ]
    },
    {
      "cell_type": "code",
      "source": [
        "number = int(input(\"Enter a number: \"))\n",
        "if number % 3 == 0:\n",
        "    print(\"Hit\")\n",
        "else:\n",
        "    print(\"Miss\")"
      ],
      "metadata": {
        "colab": {
          "base_uri": "https://localhost:8080/"
        },
        "id": "A3MzoLg1Px_D",
        "outputId": "ea6f4fb7-05f0-4c0b-d45f-ec2e96d65ead"
      },
      "id": "A3MzoLg1Px_D",
      "execution_count": null,
      "outputs": [
        {
          "output_type": "stream",
          "name": "stdout",
          "text": [
            "Enter a number: 9\n",
            "Hit\n"
          ]
        }
      ]
    },
    {
      "cell_type": "code",
      "execution_count": null,
      "id": "53650feb-792d-49ce-97d7-db602397df81",
      "metadata": {
        "id": "53650feb-792d-49ce-97d7-db602397df81"
      },
      "outputs": [],
      "source": [
        "# 7. Ask the user for a number and print whether it is positive, negative, or zero."
      ]
    },
    {
      "cell_type": "code",
      "source": [
        "number = int(input(\"Enter a number: \"))\n",
        "if number > 0:\n",
        "    print(\"Positive number\")\n",
        "elif number < 0:\n",
        "    print(\"Negative number\")\n",
        "else:\n",
        "    print(\"Zero\")"
      ],
      "metadata": {
        "colab": {
          "base_uri": "https://localhost:8080/"
        },
        "id": "dPOXvH8RP5dk",
        "outputId": "416d9772-23aa-4d48-f219-de0be82c3084"
      },
      "id": "dPOXvH8RP5dk",
      "execution_count": null,
      "outputs": [
        {
          "output_type": "stream",
          "name": "stdout",
          "text": [
            "Enter a number: 10\n",
            "Positive number\n"
          ]
        }
      ]
    },
    {
      "cell_type": "code",
      "execution_count": null,
      "id": "896e8d7e-1c5c-4501-a297-56a66cf0f56b",
      "metadata": {
        "id": "896e8d7e-1c5c-4501-a297-56a66cf0f56b"
      },
      "outputs": [],
      "source": [
        "# 8. Ask for a grade (0–100) and print:\n",
        "# \"A\" if 80 and above\n",
        "# \"B\" if 60–79\n",
        "# \"C\" if 40–59\n",
        "# \"F\" if below 40"
      ]
    },
    {
      "cell_type": "code",
      "source": [
        "grade = int(input(\"Enter a grade: \"))\n",
        "if grade >= 80:\n",
        "    print(\"A\")\n",
        "elif grade >= 60:\n",
        "    print(\"B\")\n",
        "elif grade >= 40:\n",
        "    print(\"C\")\n",
        "else:\n",
        "    print(\"F\")"
      ],
      "metadata": {
        "colab": {
          "base_uri": "https://localhost:8080/"
        },
        "id": "MwyfN7UhQFTC",
        "outputId": "3945e1cb-ae8c-4ae1-dfe5-a89b61d60688"
      },
      "id": "MwyfN7UhQFTC",
      "execution_count": null,
      "outputs": [
        {
          "output_type": "stream",
          "name": "stdout",
          "text": [
            "Enter a grade: 30\n",
            "F\n"
          ]
        }
      ]
    },
    {
      "cell_type": "code",
      "execution_count": null,
      "id": "b5caba9f-2a47-4661-a2a1-dc43eb26f302",
      "metadata": {
        "id": "b5caba9f-2a47-4661-a2a1-dc43eb26f302"
      },
      "outputs": [],
      "source": [
        "# 9. Create a simple calculator:\n",
        "# Ask for two numbers and an operator (+, -, *, /)\n",
        "# Use if statements to compute the result"
      ]
    },
    {
      "cell_type": "code",
      "source": [
        "number1 = int(input(\"Enter a number: \"))\n",
        "number2 = int(input(\"Enter a number: \"))\n",
        "operator = input(\"Enter an operator: \")\n",
        "if operator == \"+\":\n",
        "    print(number1 + number2)\n",
        "elif operator == \"-\":\n",
        "    print(number1 - number2)\n",
        "elif operator == \"*\":\n",
        "    print(number1 * number2)\n",
        "elif operator == \"/\":\n",
        "    print(number1 / number2)\n",
        "else:\n",
        "    print(\"Invalid operator\")"
      ],
      "metadata": {
        "colab": {
          "base_uri": "https://localhost:8080/"
        },
        "id": "WJTn4XbUQT2J",
        "outputId": "ca124ae8-cbae-4d66-f337-e081721b0968"
      },
      "id": "WJTn4XbUQT2J",
      "execution_count": null,
      "outputs": [
        {
          "output_type": "stream",
          "name": "stdout",
          "text": [
            "Enter a number: 7\n",
            "Enter a number: 4\n",
            "Enter an operator: *\n",
            "28\n"
          ]
        }
      ]
    },
    {
      "cell_type": "code",
      "execution_count": null,
      "id": "fe1a788d-3294-41a5-aa4e-fe327f67fb52",
      "metadata": {
        "id": "fe1a788d-3294-41a5-aa4e-fe327f67fb52"
      },
      "outputs": [],
      "source": [
        "# 10. Ask the user for their age. If they are between 13 and 19 (inclusive), print \"Teenager\"."
      ]
    },
    {
      "cell_type": "code",
      "source": [
        "age = int(input(\"Enter your age: \"))\n",
        "if age >= 13 and age <= 19:\n",
        "    print(\"Teenager\")\n",
        "else:\n",
        "    print(\"Not a teenager\")"
      ],
      "metadata": {
        "colab": {
          "base_uri": "https://localhost:8080/"
        },
        "id": "hyH3iuI9RfPS",
        "outputId": "db574d38-dd29-4f4a-8316-e028dc5d89f6"
      },
      "id": "hyH3iuI9RfPS",
      "execution_count": null,
      "outputs": [
        {
          "output_type": "stream",
          "name": "stdout",
          "text": [
            "Enter your age: 15\n",
            "Teenager\n"
          ]
        }
      ]
    },
    {
      "cell_type": "code",
      "execution_count": null,
      "id": "1ea00dbf-1b31-4a33-a673-37e64c00bec3",
      "metadata": {
        "id": "1ea00dbf-1b31-4a33-a673-37e64c00bec3"
      },
      "outputs": [],
      "source": [
        "# 11. Check if a year is a leap year:\n",
        "# leap years are those that are divisible by 4 e.g. 2020\n",
        "# leap years are not divisible by 100 except for those that are also divisible by 400"
      ]
    },
    {
      "cell_type": "code",
      "source": [
        "leap_year = int(input(\"Enter a year: \"))\n",
        "if leap_year % 4 == 0:\n",
        "    if leap_year % 100 == 0:\n",
        "        if leap_year % 400 == 0:\n",
        "            print(\"Leap year\")\n",
        "        else:\n",
        "            print(\"Not a leap year\")"
      ],
      "metadata": {
        "colab": {
          "base_uri": "https://localhost:8080/"
        },
        "id": "z22V4yc5Rva4",
        "outputId": "60d017af-9d8d-4b1c-ab06-27c1e5011801"
      },
      "id": "z22V4yc5Rva4",
      "execution_count": null,
      "outputs": [
        {
          "output_type": "stream",
          "name": "stdout",
          "text": [
            "Enter a year: 2000\n",
            "Leap year\n"
          ]
        }
      ]
    },
    {
      "cell_type": "code",
      "execution_count": null,
      "id": "1205bda1-fb79-490b-87f2-bfb7ad31cf5f",
      "metadata": {
        "id": "1205bda1-fb79-490b-87f2-bfb7ad31cf5f"
      },
      "outputs": [],
      "source": [
        "# 12. Ask for a password and username. Allow login only if both match the correct values."
      ]
    },
    {
      "cell_type": "code",
      "source": [
        "correct_password = \"password\"\n",
        "correct_username = \"username\"\n",
        "\n",
        "password = input(\"Enter a password: \")\n",
        "username = input(\"Enter a username: \")\n",
        "if password == \"password\" and username == \"username\":\n",
        "    print(\"Login successful\")\n",
        "else:\n",
        "    print(\"Login failed\")"
      ],
      "metadata": {
        "colab": {
          "base_uri": "https://localhost:8080/"
        },
        "id": "OyByaFpRR7Vz",
        "outputId": "e3334496-2928-4c61-b591-2ff1f2461bef"
      },
      "id": "OyByaFpRR7Vz",
      "execution_count": null,
      "outputs": [
        {
          "output_type": "stream",
          "name": "stdout",
          "text": [
            "Enter a password: password\n",
            "Enter a username: username\n",
            "Login successful\n"
          ]
        }
      ]
    },
    {
      "cell_type": "code",
      "execution_count": null,
      "id": "800d597a-86b4-432b-9f0d-602e56fcdec2",
      "metadata": {
        "id": "800d597a-86b4-432b-9f0d-602e56fcdec2"
      },
      "outputs": [],
      "source": [
        "# 13.Ask for a username. If it is \"admin\", then ask for a password. If both are correct, print \"Welcome, admin!\""
      ]
    },
    {
      "cell_type": "code",
      "source": [
        "correct_username = \"admin\"\n",
        "correct_password = \"password\"\n",
        "\n",
        "username = input(\"Enter a username: \")\n",
        "if username == \"admin\":\n",
        "    password = input(\"Enter a password: \")\n",
        "    if password == \"password\":\n",
        "        print(\"Welcome, admin!\")"
      ],
      "metadata": {
        "colab": {
          "base_uri": "https://localhost:8080/"
        },
        "id": "PMCpGpDjS0a9",
        "outputId": "7cda633b-24c9-4f06-bc74-804ee512c63d"
      },
      "id": "PMCpGpDjS0a9",
      "execution_count": null,
      "outputs": [
        {
          "output_type": "stream",
          "name": "stdout",
          "text": [
            "Enter a username: admin\n",
            "Enter a password: password\n",
            "Welcome, admin!\n"
          ]
        }
      ]
    },
    {
      "cell_type": "code",
      "execution_count": null,
      "id": "17d635f5-518e-46fb-88a2-e107aa0bf130",
      "metadata": {
        "id": "17d635f5-518e-46fb-88a2-e107aa0bf130"
      },
      "outputs": [],
      "source": [
        "# 14. Ask a user to enter two numbers. If both numbers are even, print \"Both are even\"; if one is even, print \"One is even\"; otherwise print \"None are even\"."
      ]
    },
    {
      "cell_type": "code",
      "source": [
        "number1 = int(input(\"Enter a number: \"))\n",
        "number2 = int(input(\"Enter a number: \"))\n",
        "if number1 % 2 == 0 and number2 % 2 == 0:\n",
        "    print(\"Both are even\")\n",
        "elif number1 % 2 == 0 or number2 % 2 == 0:\n",
        "    print(\"One is even\")\n",
        "else:\n",
        "    print(\"None are even\")"
      ],
      "metadata": {
        "colab": {
          "base_uri": "https://localhost:8080/"
        },
        "id": "HxmgEc1NTBg1",
        "outputId": "6352b0a7-6ff4-466c-9395-390693413619"
      },
      "id": "HxmgEc1NTBg1",
      "execution_count": null,
      "outputs": [
        {
          "output_type": "stream",
          "name": "stdout",
          "text": [
            "Enter a number: 7\n",
            "Enter a number: 2\n",
            "One is even\n"
          ]
        }
      ]
    },
    {
      "cell_type": "code",
      "execution_count": null,
      "id": "0ce02b24-1df8-4b1f-8ce9-e11e03c57932",
      "metadata": {
        "id": "0ce02b24-1df8-4b1f-8ce9-e11e03c57932"
      },
      "outputs": [],
      "source": [
        "# 15. Ask the user for marks in three subjects. If the average is above 50, print \"Passed\"; otherwise, print \"Failed\"."
      ]
    },
    {
      "cell_type": "code",
      "source": [
        "mark_1 = float(input(\"Enter a mark: \"))\n",
        "mark_2 = float(input(\"Enter a mark: \"))\n",
        "mark_3 = float(input(\"Enter a mark: \"))\n",
        "average = (mark_1 + mark_2 + mark_3) / 3\n",
        "if average > 50:\n",
        "    print(\"Passed\")\n",
        "else:\n",
        "    print(\"Failed\")"
      ],
      "metadata": {
        "colab": {
          "base_uri": "https://localhost:8080/"
        },
        "id": "Ey-FwW-hTxi9",
        "outputId": "e94c9c54-200e-4dec-f656-ba5718c3060c"
      },
      "id": "Ey-FwW-hTxi9",
      "execution_count": null,
      "outputs": [
        {
          "output_type": "stream",
          "name": "stdout",
          "text": [
            "Enter a mark: 30\n",
            "Enter a mark: 60\n",
            "Enter a mark: 40\n",
            "Failed\n"
          ]
        }
      ]
    },
    {
      "cell_type": "code",
      "execution_count": null,
      "id": "6439a058-6433-4064-a58f-2eeb3138ad25",
      "metadata": {
        "id": "6439a058-6433-4064-a58f-2eeb3138ad25"
      },
      "outputs": [],
      "source": [
        "# 16. Rock, Paper, Scissors Game (2 players)\n",
        "# Ask both players to enter their choice\n",
        "# Decide who wins based on rules(research the rules)"
      ]
    },
    {
      "cell_type": "code",
      "source": [
        "Angela = input(\"Angela, Enter a choice: \")\n",
        "Chris = input(\"Chris, Enter a choice: \")\n",
        "if Angela == \"rock\" and Chris == \"scissors\":\n",
        "    print(\"Angela wins\")\n",
        "elif Angela == \"paper\" and Chris == \"rock\":\n",
        "    print(\"Angela wins\")\n",
        "elif Angela == \"scissors\" and Chris == \"paper\":\n",
        "    print(\"Angela wins\")\n",
        "else:\n",
        "    print(\"Chris wins\")\n",
        "if Angela == Chris:\n",
        "    print(\"It's a tie\")\n"
      ],
      "metadata": {
        "colab": {
          "base_uri": "https://localhost:8080/"
        },
        "id": "SBYTlj20UZUe",
        "outputId": "e5b157b3-412d-4c97-ac94-10badf7fc01c"
      },
      "id": "SBYTlj20UZUe",
      "execution_count": null,
      "outputs": [
        {
          "output_type": "stream",
          "name": "stdout",
          "text": [
            "Angela, Enter a choice: rock\n",
            "Tonny, Enter a choice: paper\n",
            "Tonny wins\n"
          ]
        }
      ]
    },
    {
      "cell_type": "code",
      "execution_count": null,
      "id": "25c23375-d5fc-4cff-aae4-43dcf6076461",
      "metadata": {
        "id": "25c23375-d5fc-4cff-aae4-43dcf6076461"
      },
      "outputs": [],
      "source": [
        "# 17. Ask the user for a number and check if it's a prime number (Hint: A prime number has only two factors)"
      ]
    },
    {
      "cell_type": "code",
      "source": [
        "number = int(input(\"Enter a number: \"))\n",
        "if number > 1:\n",
        "    for i in range(2, number):\n",
        "        if number % i == 0:\n",
        "            print(\"Not a prime number\")\n",
        "            break\n",
        "    else:\n",
        "        print(\"Prime number\")"
      ],
      "metadata": {
        "colab": {
          "base_uri": "https://localhost:8080/"
        },
        "id": "-YAQJ2A-WvOB",
        "outputId": "bf865ad4-6376-4d40-8412-de08837a8f11"
      },
      "id": "-YAQJ2A-WvOB",
      "execution_count": null,
      "outputs": [
        {
          "output_type": "stream",
          "name": "stdout",
          "text": [
            "Enter a number: 9\n",
            "Not a prime number\n"
          ]
        }
      ]
    },
    {
      "cell_type": "code",
      "execution_count": null,
      "id": "c7b16d61-eab5-47ae-9301-ba7f55f97ba7",
      "metadata": {
        "id": "c7b16d61-eab5-47ae-9301-ba7f55f97ba7"
      },
      "outputs": [],
      "source": [
        "# 18. Ask the user to enter a number and check if it’s a perfect square."
      ]
    },
    {
      "cell_type": "code",
      "source": [
        "number = int(input(\"Enter a number: \"))\n",
        "if number > 1:\n",
        "    for i in range(2, number):\n",
        "        if number % i == 0:\n",
        "            print(\"Not a perfect square\")"
      ],
      "metadata": {
        "colab": {
          "base_uri": "https://localhost:8080/"
        },
        "id": "cvk2J5cQXBvl",
        "outputId": "dfc1a9e4-2649-4824-dba0-04a3dd64c62e"
      },
      "id": "cvk2J5cQXBvl",
      "execution_count": null,
      "outputs": [
        {
          "output_type": "stream",
          "name": "stdout",
          "text": [
            "Enter a number: 27\n",
            "Not a perfect square\n",
            "Not a perfect square\n"
          ]
        }
      ]
    },
    {
      "cell_type": "code",
      "source": [],
      "metadata": {
        "id": "p2m2O7aWXFjB"
      },
      "id": "p2m2O7aWXFjB",
      "execution_count": null,
      "outputs": []
    }
  ],
  "metadata": {
    "kernelspec": {
      "display_name": "Python [conda env:base] *",
      "language": "python",
      "name": "conda-base-py"
    },
    "language_info": {
      "codemirror_mode": {
        "name": "ipython",
        "version": 3
      },
      "file_extension": ".py",
      "mimetype": "text/x-python",
      "name": "python",
      "nbconvert_exporter": "python",
      "pygments_lexer": "ipython3",
      "version": "3.12.7"
    },
    "colab": {
      "provenance": [],
      "include_colab_link": true
    }
  },
  "nbformat": 4,
  "nbformat_minor": 5
}