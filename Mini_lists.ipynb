{
  "cells": [
    {
      "cell_type": "markdown",
      "metadata": {
        "id": "view-in-github",
        "colab_type": "text"
      },
      "source": [
        "<a href=\"https://colab.research.google.com/github/Angelaaa-hub/Introduction-to-python/blob/main/Mini_lists.ipynb\" target=\"_parent\"><img src=\"https://colab.research.google.com/assets/colab-badge.svg\" alt=\"Open In Colab\"/></a>"
      ]
    },
    {
      "cell_type": "code",
      "execution_count": null,
      "id": "afeeed59-dc7d-4c3b-bae8-c608702583e3",
      "metadata": {
        "id": "afeeed59-dc7d-4c3b-bae8-c608702583e3"
      },
      "outputs": [],
      "source": [
        "# 1. Create a list of your 8 foods and store it in a variable called foods.\n",
        "# pizza cake banana kales pizza chicken beef"
      ]
    },
    {
      "cell_type": "code",
      "source": [
        "foods = [\"pizza\", \"cake\", \"banana\", \"kales\", \"pizza\", \"chicken\", \"beef\"]\n",
        "print(foods)"
      ],
      "metadata": {
        "colab": {
          "base_uri": "https://localhost:8080/"
        },
        "id": "naOkmvGIuVYI",
        "outputId": "13a45450-4839-4f52-a7f5-5ab3f75156cd"
      },
      "id": "naOkmvGIuVYI",
      "execution_count": null,
      "outputs": [
        {
          "output_type": "stream",
          "name": "stdout",
          "text": [
            "['pizza', 'cake', 'banana', 'kales', 'pizza', 'chicken', 'beef']\n"
          ]
        }
      ]
    },
    {
      "cell_type": "code",
      "execution_count": null,
      "id": "99dc3ac5-da15-4898-9512-c2fe3f9f271e",
      "metadata": {
        "id": "99dc3ac5-da15-4898-9512-c2fe3f9f271e"
      },
      "outputs": [],
      "source": [
        "# 1.1. Print the first and last item in the foods list."
      ]
    },
    {
      "cell_type": "code",
      "source": [
        "print(foods[0])\n",
        "print(foods[6])"
      ],
      "metadata": {
        "colab": {
          "base_uri": "https://localhost:8080/"
        },
        "id": "0pfhMg2yzaii",
        "outputId": "479ecde5-a5fc-45f6-8ea6-4f27cfb9e3fc"
      },
      "id": "0pfhMg2yzaii",
      "execution_count": null,
      "outputs": [
        {
          "output_type": "stream",
          "name": "stdout",
          "text": [
            "pizza\n",
            "beef\n"
          ]
        }
      ]
    },
    {
      "cell_type": "code",
      "execution_count": null,
      "id": "d0397985-bbc5-44a8-8598-d85a80b01687",
      "metadata": {
        "id": "d0397985-bbc5-44a8-8598-d85a80b01687"
      },
      "outputs": [],
      "source": [
        "# 1.2. Replace the third item in the list with another food."
      ]
    },
    {
      "cell_type": "code",
      "source": [
        "foods[2] = \"burger\"\n",
        "print(foods)"
      ],
      "metadata": {
        "colab": {
          "base_uri": "https://localhost:8080/"
        },
        "id": "L8Q9MDVGz_jq",
        "outputId": "5f695e87-e1ef-4a04-87ba-b591ac3ec91a"
      },
      "id": "L8Q9MDVGz_jq",
      "execution_count": null,
      "outputs": [
        {
          "output_type": "stream",
          "name": "stdout",
          "text": [
            "['pizza', 'cake', 'burger', 'burger', 'pizza', 'chicken', 'beef']\n"
          ]
        }
      ]
    },
    {
      "cell_type": "code",
      "execution_count": null,
      "id": "4794318d-827d-4a4c-ba5a-9e8ecb078e1b",
      "metadata": {
        "id": "4794318d-827d-4a4c-ba5a-9e8ecb078e1b"
      },
      "outputs": [],
      "source": [
        "# 1.3. Add a new food to the end of the list using .append()."
      ]
    },
    {
      "cell_type": "code",
      "source": [
        "append = foods.append(\"apple\")\n",
        "print(foods)"
      ],
      "metadata": {
        "colab": {
          "base_uri": "https://localhost:8080/"
        },
        "id": "DZiqL-VS0eBX",
        "outputId": "59139525-3c2b-4181-de4c-7e7f1129e457"
      },
      "id": "DZiqL-VS0eBX",
      "execution_count": null,
      "outputs": [
        {
          "output_type": "stream",
          "name": "stdout",
          "text": [
            "['pizza', 'cake', 'burger', 'burger', 'pizza', 'chicken', 'beef', 'apple']\n"
          ]
        }
      ]
    },
    {
      "cell_type": "code",
      "execution_count": null,
      "id": "53bbba42-1d27-4f7b-9db7-61f2335ec42b",
      "metadata": {
        "id": "53bbba42-1d27-4f7b-9db7-61f2335ec42b"
      },
      "outputs": [],
      "source": [
        "# 1.4. Remove one food from the list using .remove()."
      ]
    },
    {
      "cell_type": "code",
      "source": [
        "remove = foods.remove(\"burger\")\n",
        "print(foods)"
      ],
      "metadata": {
        "colab": {
          "base_uri": "https://localhost:8080/"
        },
        "id": "GeYfkWi30o28",
        "outputId": "1453b1f5-f3ba-4fd7-d86b-cf54109aade1"
      },
      "id": "GeYfkWi30o28",
      "execution_count": null,
      "outputs": [
        {
          "output_type": "stream",
          "name": "stdout",
          "text": [
            "['pizza', 'cake', 'burger', 'pizza', 'chicken', 'beef', 'apple']\n"
          ]
        }
      ]
    },
    {
      "cell_type": "code",
      "execution_count": null,
      "id": "0bc216e8-fb4f-43a8-a931-2d2a8378aca4",
      "metadata": {
        "id": "0bc216e8-fb4f-43a8-a931-2d2a8378aca4"
      },
      "outputs": [],
      "source": [
        "# 1.5. Use a for loop to print each item in the list on a new line."
      ]
    },
    {
      "cell_type": "code",
      "source": [
        "# 1.5. Use a for loop to print each item in the list on a new line.\n",
        "foods = [\"pizza\", \"cake\", \"burger\", \"pizza\", \"chicken\", \"beef\", \"apple\"]\n",
        "for food in foods:\n",
        "    print(food)"
      ],
      "metadata": {
        "id": "M44jDsC00x_7",
        "colab": {
          "base_uri": "https://localhost:8080/"
        },
        "outputId": "94340af6-238d-49af-80f2-6d897368fa0a"
      },
      "id": "M44jDsC00x_7",
      "execution_count": null,
      "outputs": [
        {
          "output_type": "stream",
          "name": "stdout",
          "text": [
            "pizza\n",
            "cake\n",
            "burger\n",
            "pizza\n",
            "chicken\n",
            "beef\n",
            "apple\n"
          ]
        }
      ]
    },
    {
      "cell_type": "code",
      "execution_count": null,
      "id": "0d187ba2-1c54-47a6-ad7a-ccfcec3c1055",
      "metadata": {
        "id": "0d187ba2-1c54-47a6-ad7a-ccfcec3c1055"
      },
      "outputs": [],
      "source": [
        "# 1.6. Use a loop to print only the foods that start with the letter \"a\"."
      ]
    },
    {
      "cell_type": "code",
      "source": [
        "for food in foods:\n",
        "    if food.startswith(\"a\"):\n",
        "        print(food)"
      ],
      "metadata": {
        "colab": {
          "base_uri": "https://localhost:8080/"
        },
        "id": "dp71kfHHpkRL",
        "outputId": "cddf28fa-a193-447a-ffaa-20f7360bf724"
      },
      "id": "dp71kfHHpkRL",
      "execution_count": null,
      "outputs": [
        {
          "output_type": "stream",
          "name": "stdout",
          "text": [
            "apple\n"
          ]
        }
      ]
    },
    {
      "cell_type": "code",
      "execution_count": null,
      "id": "2a69be21-6d6c-467c-a4d4-331fae66a85c",
      "metadata": {
        "id": "2a69be21-6d6c-467c-a4d4-331fae66a85c"
      },
      "outputs": [],
      "source": [
        "# 1.7. Count how many times \"pizza\" appears in the list."
      ]
    },
    {
      "cell_type": "code",
      "source": [
        "count = foods.count(\"pizza\")\n",
        "print(count)"
      ],
      "metadata": {
        "colab": {
          "base_uri": "https://localhost:8080/"
        },
        "id": "BN_8YNGkpo9I",
        "outputId": "da6abd79-b273-4c8d-d89e-4e1d5a7b5313"
      },
      "id": "BN_8YNGkpo9I",
      "execution_count": null,
      "outputs": [
        {
          "output_type": "stream",
          "name": "stdout",
          "text": [
            "2\n"
          ]
        }
      ]
    },
    {
      "cell_type": "code",
      "execution_count": null,
      "id": "4d4ba594-6eef-48ca-a1a8-461343e841f8",
      "metadata": {
        "id": "4d4ba594-6eef-48ca-a1a8-461343e841f8"
      },
      "outputs": [],
      "source": [
        "# 1.8. Print the second to fourth items using slicing.\n",
        "# Remember that slicing is getting a range of values using the square brackets and index"
      ]
    },
    {
      "cell_type": "code",
      "source": [
        "print(foods[1:4])"
      ],
      "metadata": {
        "colab": {
          "base_uri": "https://localhost:8080/"
        },
        "id": "cVJsr5k1p-fm",
        "outputId": "a920afd9-c162-48ac-ff2f-49a24d5980ff"
      },
      "id": "cVJsr5k1p-fm",
      "execution_count": null,
      "outputs": [
        {
          "output_type": "stream",
          "name": "stdout",
          "text": [
            "['cake', 'burger', 'pizza']\n"
          ]
        }
      ]
    },
    {
      "cell_type": "code",
      "execution_count": null,
      "id": "c8f9673f-5eed-4978-8edf-3c5d502c3e7c",
      "metadata": {
        "id": "c8f9673f-5eed-4978-8edf-3c5d502c3e7c"
      },
      "outputs": [],
      "source": [
        "# 1.9. Print the list in reverse using slicing."
      ]
    },
    {
      "cell_type": "code",
      "source": [
        "print(foods[::-1])"
      ],
      "metadata": {
        "colab": {
          "base_uri": "https://localhost:8080/"
        },
        "id": "LEishuMfqImt",
        "outputId": "e6d94a0b-54cf-42e1-d19c-4c705e84bf40"
      },
      "id": "LEishuMfqImt",
      "execution_count": null,
      "outputs": [
        {
          "output_type": "stream",
          "name": "stdout",
          "text": [
            "['apple', 'beef', 'chicken', 'pizza', 'burger', 'cake', 'pizza']\n"
          ]
        }
      ]
    },
    {
      "cell_type": "code",
      "execution_count": null,
      "id": "38f790ac-eb70-4a0d-b2a1-6fe58ebb1ceb",
      "metadata": {
        "id": "38f790ac-eb70-4a0d-b2a1-6fe58ebb1ceb"
      },
      "outputs": [],
      "source": [
        "# 2. Create a list of numbers: 5 2 9 1 7"
      ]
    },
    {
      "cell_type": "code",
      "source": [
        "list = [5, 2, 9, 1, 7]\n",
        "print(list)"
      ],
      "metadata": {
        "colab": {
          "base_uri": "https://localhost:8080/"
        },
        "id": "2V-4rnUkqOKS",
        "outputId": "6d483aeb-c777-42c0-ff39-868163e91bcf"
      },
      "id": "2V-4rnUkqOKS",
      "execution_count": null,
      "outputs": [
        {
          "output_type": "stream",
          "name": "stdout",
          "text": [
            "[5, 2, 9, 1, 7]\n"
          ]
        }
      ]
    },
    {
      "cell_type": "code",
      "execution_count": null,
      "id": "49112858-2921-4edb-b3ee-87807966ca01",
      "metadata": {
        "id": "49112858-2921-4edb-b3ee-87807966ca01"
      },
      "outputs": [],
      "source": [
        "# 2.1 Use the following functions:\n",
        "# sum() to calculate total\n",
        "# max() to find the highest\n",
        "# min() to find the smallest"
      ]
    },
    {
      "cell_type": "code",
      "source": [
        "sum(list)"
      ],
      "metadata": {
        "colab": {
          "base_uri": "https://localhost:8080/"
        },
        "id": "HJQdDi7nqW30",
        "outputId": "f72ace38-9ac6-4b01-f300-126d6eb3821f"
      },
      "id": "HJQdDi7nqW30",
      "execution_count": null,
      "outputs": [
        {
          "output_type": "execute_result",
          "data": {
            "text/plain": [
              "24"
            ]
          },
          "metadata": {},
          "execution_count": 11
        }
      ]
    },
    {
      "cell_type": "code",
      "source": [
        "max(list)"
      ],
      "metadata": {
        "colab": {
          "base_uri": "https://localhost:8080/"
        },
        "id": "z6bjtb5Xqtwv",
        "outputId": "708c1b9d-98ec-4e5a-8e48-3172c36c0bef"
      },
      "id": "z6bjtb5Xqtwv",
      "execution_count": null,
      "outputs": [
        {
          "output_type": "execute_result",
          "data": {
            "text/plain": [
              "9"
            ]
          },
          "metadata": {},
          "execution_count": 12
        }
      ]
    },
    {
      "cell_type": "code",
      "source": [
        "min(list)"
      ],
      "metadata": {
        "colab": {
          "base_uri": "https://localhost:8080/"
        },
        "id": "V_LoElofqxX8",
        "outputId": "f32440d9-c55e-4d62-dfb9-01a28c1eb2be"
      },
      "id": "V_LoElofqxX8",
      "execution_count": null,
      "outputs": [
        {
          "output_type": "execute_result",
          "data": {
            "text/plain": [
              "1"
            ]
          },
          "metadata": {},
          "execution_count": 13
        }
      ]
    },
    {
      "cell_type": "code",
      "execution_count": null,
      "id": "5d737597-d5e5-47ef-9347-5968b9096817",
      "metadata": {
        "id": "5d737597-d5e5-47ef-9347-5968b9096817"
      },
      "outputs": [],
      "source": [
        "# 2.2. Sort the list in ascending and descending order using .sort() and .reverse()."
      ]
    },
    {
      "cell_type": "code",
      "source": [
        "list.sort()\n",
        "print(\"Ascending:\",list)"
      ],
      "metadata": {
        "colab": {
          "base_uri": "https://localhost:8080/"
        },
        "id": "3TSEG7jtrJOD",
        "outputId": "e05cbe80-d3f9-4d50-e48b-ce1b806fda60"
      },
      "id": "3TSEG7jtrJOD",
      "execution_count": null,
      "outputs": [
        {
          "output_type": "stream",
          "name": "stdout",
          "text": [
            "Ascending: [1, 2, 5, 7, 9]\n"
          ]
        }
      ]
    },
    {
      "cell_type": "code",
      "source": [
        "list.sort(reverse=True)\n",
        "print(\"Descending:\",list)"
      ],
      "metadata": {
        "colab": {
          "base_uri": "https://localhost:8080/"
        },
        "id": "hv6g4obirZ8N",
        "outputId": "b2814395-906d-4db1-fbf5-e8e53772ee75"
      },
      "id": "hv6g4obirZ8N",
      "execution_count": null,
      "outputs": [
        {
          "output_type": "stream",
          "name": "stdout",
          "text": [
            "Descending: [9, 7, 5, 2, 1]\n"
          ]
        }
      ]
    },
    {
      "cell_type": "code",
      "execution_count": null,
      "id": "be0a25a2-c415-409c-bd50-681b668ad678",
      "metadata": {
        "id": "be0a25a2-c415-409c-bd50-681b668ad678"
      },
      "outputs": [],
      "source": [
        "# 2.3. Use .insert() to add the number 10 at index 2."
      ]
    },
    {
      "cell_type": "code",
      "source": [
        "list.insert(2, 10)\n",
        "print(list)"
      ],
      "metadata": {
        "colab": {
          "base_uri": "https://localhost:8080/"
        },
        "id": "EvQeJdr8rqyw",
        "outputId": "997eed2e-45f5-49b6-fadc-2390aa234722"
      },
      "id": "EvQeJdr8rqyw",
      "execution_count": null,
      "outputs": [
        {
          "output_type": "stream",
          "name": "stdout",
          "text": [
            "[9, 7, 10, 5, 2, 1]\n"
          ]
        }
      ]
    },
    {
      "cell_type": "code",
      "execution_count": null,
      "id": "226d1f17-52d0-4e88-a57d-dae06cb775b9",
      "metadata": {
        "id": "226d1f17-52d0-4e88-a57d-dae06cb775b9"
      },
      "outputs": [],
      "source": [
        "# 3. Create the nested list of students below and their scores:\n",
        "# then print each student's name and score using a loop.\n",
        "students = [[\"Alice\", 85], [\"Bob\", 78], [\"Charlie\", 92]]"
      ]
    },
    {
      "cell_type": "code",
      "source": [
        "students = [[\"Alice\", 85], [\"Bob\", 78], [\"Charlie\", 92]]\n",
        "\n",
        "for student in students:\n",
        "    name = student[0]\n",
        "    score = student[1]\n",
        "    print(f\"{name}: {score}\")"
      ],
      "metadata": {
        "colab": {
          "base_uri": "https://localhost:8080/"
        },
        "id": "dyR8KVtHr768",
        "outputId": "113995b0-10de-43d8-c9ca-1361605a8d17"
      },
      "id": "dyR8KVtHr768",
      "execution_count": null,
      "outputs": [
        {
          "output_type": "stream",
          "name": "stdout",
          "text": [
            "Alice: 85\n",
            "Bob: 78\n",
            "Charlie: 92\n"
          ]
        }
      ]
    },
    {
      "cell_type": "code",
      "execution_count": null,
      "id": "a5d23639-9eee-4907-b6dc-572a2d36177a",
      "metadata": {
        "id": "a5d23639-9eee-4907-b6dc-572a2d36177a"
      },
      "outputs": [],
      "source": [
        "# 3.1. Find the student with the highest score."
      ]
    },
    {
      "cell_type": "code",
      "source": [
        "students = [[\"Alice\", 85], [\"Bob\", 78], [\"Charlie\", 92]]\n",
        "\n",
        "highest_score = -1\n",
        "highest_student = None\n",
        "\n",
        "for student in students:\n",
        "    if student[1] > highest_score:\n",
        "        highest_score = student[1]\n",
        "        highest_student = student\n",
        "\n",
        "print(f\"The student with the highest score is {highest_student[0]} with a score of {highest_student[1]}.\")"
      ],
      "metadata": {
        "colab": {
          "base_uri": "https://localhost:8080/"
        },
        "id": "2kuKZmTKsQgv",
        "outputId": "e780fda3-68fd-426d-826e-28ccfac6f13c"
      },
      "id": "2kuKZmTKsQgv",
      "execution_count": null,
      "outputs": [
        {
          "output_type": "stream",
          "name": "stdout",
          "text": [
            "The student with the highest score is Charlie with a score of 92.\n"
          ]
        }
      ]
    },
    {
      "cell_type": "code",
      "execution_count": null,
      "id": "8ac139d5-fb73-433e-be6c-66ec9734c83b",
      "metadata": {
        "id": "8ac139d5-fb73-433e-be6c-66ec9734c83b"
      },
      "outputs": [],
      "source": [
        "# 4. Write a function that asks the user to enter 5 numbers and stores them in a list."
      ]
    },
    {
      "cell_type": "code",
      "source": [
        "def get_numbers():\n",
        "    numbers = []\n",
        "    for i in range(5):\n",
        "        number = int(input(f\"Enter number {i+1}: \"))\n",
        "        numbers.append(number)\n",
        "    return numbers\n",
        "\n",
        "numbers = get_numbers()"
      ],
      "metadata": {
        "colab": {
          "base_uri": "https://localhost:8080/"
        },
        "id": "vQHscu6CvFi2",
        "outputId": "6db97656-bd1a-4ef7-fabf-c8377c2510a0"
      },
      "id": "vQHscu6CvFi2",
      "execution_count": null,
      "outputs": [
        {
          "name": "stdout",
          "output_type": "stream",
          "text": [
            "Enter number 1: 4\n",
            "Enter number 2: 7\n",
            "Enter number 3: 1\n",
            "Enter number 4: 0\n",
            "Enter number 5: 8\n"
          ]
        }
      ]
    },
    {
      "cell_type": "code",
      "execution_count": null,
      "id": "87f7cd84-9e40-43c3-bec6-5b65a7695334",
      "metadata": {
        "id": "87f7cd84-9e40-43c3-bec6-5b65a7695334"
      },
      "outputs": [],
      "source": [
        "# 4.1. Write a function that removes all even numbers from the list provided by the user."
      ]
    },
    {
      "cell_type": "code",
      "source": [
        "def remove_even_numbers(numbers):\n",
        "    numbers = []\n",
        "\n",
        "    for i in range(5):\n",
        "        number = int(input(f\"Enter number {i+1}: \"))\n",
        "        numbers.append(number)\n",
        "\n",
        "    odd_numbers = [num for num in numbers if num % 2 != 0]\n",
        "    return odd_numbers\n",
        "\n",
        "    result = remove_even_numbers()\n",
        "    print(\"List with even numbers removed:\", numbers)\n"
      ],
      "metadata": {
        "id": "wxxIYHXevik5"
      },
      "id": "wxxIYHXevik5",
      "execution_count": null,
      "outputs": []
    },
    {
      "cell_type": "code",
      "execution_count": null,
      "id": "b7dfad1c-b60a-450b-a56b-c4a43c50dfdb",
      "metadata": {
        "id": "b7dfad1c-b60a-450b-a56b-c4a43c50dfdb"
      },
      "outputs": [],
      "source": [
        "# 5. Merge two lists:\n",
        "list1 = [1, 2, 3]\n",
        "list2 = [4, 5, 6]"
      ]
    },
    {
      "cell_type": "code",
      "source": [
        "list1 = [1, 2, 3]\n",
        "list2 = [4, 5, 6]\n",
        "\n",
        "\n",
        "\n",
        "merged_list = list1 + list2\n",
        "print(merged_list)"
      ],
      "metadata": {
        "id": "ILkV2a3Uw-e-",
        "colab": {
          "base_uri": "https://localhost:8080/"
        },
        "outputId": "11f8b1f7-deba-4b2d-a756-1213f27b770f"
      },
      "id": "ILkV2a3Uw-e-",
      "execution_count": null,
      "outputs": [
        {
          "output_type": "stream",
          "name": "stdout",
          "text": [
            "[1, 2, 3, 4, 5, 6]\n"
          ]
        }
      ]
    },
    {
      "cell_type": "code",
      "execution_count": null,
      "id": "dd94be4f-dadb-4134-a7d7-d15b4c20657c",
      "metadata": {
        "id": "dd94be4f-dadb-4134-a7d7-d15b4c20657c"
      },
      "outputs": [],
      "source": [
        "# 6. Ask the user to input student names until they type \"stop\". Store all names in a list and print it at the end."
      ]
    },
    {
      "cell_type": "code",
      "source": [
        "student_names = []\n",
        "while True:\n",
        "    name = input(\"Enter a student name (type 'stop' to finish): \")\n",
        "    if name == \"stop\":\n",
        "        break\n",
        "    student_names.append(name)\n",
        "\n",
        "print(\"List of student names:\")\n",
        "print(student_names)"
      ],
      "metadata": {
        "id": "iwQ8leboIh9b",
        "colab": {
          "base_uri": "https://localhost:8080/"
        },
        "outputId": "72054905-a9dd-473b-a3ab-ac136b425f0a"
      },
      "id": "iwQ8leboIh9b",
      "execution_count": 1,
      "outputs": [
        {
          "output_type": "stream",
          "name": "stdout",
          "text": [
            "Enter a student name (type 'stop' to finish): Angela\n",
            "Enter a student name (type 'stop' to finish): Lisa\n",
            "Enter a student name (type 'stop' to finish): Ashley\n",
            "Enter a student name (type 'stop' to finish): Sierra\n",
            "Enter a student name (type 'stop' to finish): Serah\n",
            "Enter a student name (type 'stop' to finish): stop\n",
            "List of student names:\n",
            "['Angela', 'Lisa', 'Ashley', 'Sierra', 'Serah']\n"
          ]
        }
      ]
    },
    {
      "cell_type": "code",
      "execution_count": null,
      "id": "cede72a7-6309-474f-a110-9c3a1bd9ea94",
      "metadata": {
        "id": "cede72a7-6309-474f-a110-9c3a1bd9ea94"
      },
      "outputs": [],
      "source": [
        "# 6.1. From the list of names, print only those that are longer than 5 characters."
      ]
    },
    {
      "cell_type": "code",
      "source": [
        "student_name = ['Angela', 'Lisa', 'Ashley', 'Sierra', 'Serah']\n",
        "for name in student_name:\n",
        "    if len(name) > 5:\n",
        "        print(name)\n",
        ""
      ],
      "metadata": {
        "colab": {
          "base_uri": "https://localhost:8080/"
        },
        "id": "aTI7uM-nkGjX",
        "outputId": "a3cf4b30-5438-40fd-9f12-afc05c63dea3"
      },
      "id": "aTI7uM-nkGjX",
      "execution_count": 2,
      "outputs": [
        {
          "output_type": "stream",
          "name": "stdout",
          "text": [
            "Angela\n",
            "Ashley\n",
            "Sierra\n"
          ]
        }
      ]
    },
    {
      "cell_type": "code",
      "source": [],
      "metadata": {
        "id": "Yy-qNk86kWos"
      },
      "id": "Yy-qNk86kWos",
      "execution_count": null,
      "outputs": []
    }
  ],
  "metadata": {
    "kernelspec": {
      "display_name": "Python [conda env:base] *",
      "language": "python",
      "name": "conda-base-py"
    },
    "language_info": {
      "codemirror_mode": {
        "name": "ipython",
        "version": 3
      },
      "file_extension": ".py",
      "mimetype": "text/x-python",
      "name": "python",
      "nbconvert_exporter": "python",
      "pygments_lexer": "ipython3",
      "version": "3.12.7"
    },
    "colab": {
      "provenance": [],
      "include_colab_link": true
    }
  },
  "nbformat": 4,
  "nbformat_minor": 5
}